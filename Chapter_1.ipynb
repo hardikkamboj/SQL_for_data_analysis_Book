{
 "cells": [
  {
   "cell_type": "code",
   "execution_count": 12,
   "metadata": {},
   "outputs": [],
   "source": [
    "import pandas as pd\n",
    "import matplotlib.pyplot as plt\n",
    "import numpy as np\n",
    "from scipy import stats"
   ]
  },
  {
   "cell_type": "markdown",
   "metadata": {},
   "source": [
    "# Histograms"
   ]
  },
  {
   "cell_type": "code",
   "execution_count": 2,
   "metadata": {},
   "outputs": [
    {
     "name": "stdout",
     "output_type": "stream",
     "text": [
      "(10000, 1)\n"
     ]
    },
    {
     "data": {
      "text/html": [
       "<div>\n",
       "<style scoped>\n",
       "    .dataframe tbody tr th:only-of-type {\n",
       "        vertical-align: middle;\n",
       "    }\n",
       "\n",
       "    .dataframe tbody tr th {\n",
       "        vertical-align: top;\n",
       "    }\n",
       "\n",
       "    .dataframe thead th {\n",
       "        text-align: right;\n",
       "    }\n",
       "</style>\n",
       "<table border=\"1\" class=\"dataframe\">\n",
       "  <thead>\n",
       "    <tr style=\"text-align: right;\">\n",
       "      <th></th>\n",
       "      <th>height</th>\n",
       "    </tr>\n",
       "  </thead>\n",
       "  <tbody>\n",
       "    <tr>\n",
       "      <th>0</th>\n",
       "      <td>182.395153</td>\n",
       "    </tr>\n",
       "    <tr>\n",
       "      <th>1</th>\n",
       "      <td>177.369198</td>\n",
       "    </tr>\n",
       "    <tr>\n",
       "      <th>2</th>\n",
       "      <td>182.198838</td>\n",
       "    </tr>\n",
       "    <tr>\n",
       "      <th>3</th>\n",
       "      <td>176.988964</td>\n",
       "    </tr>\n",
       "    <tr>\n",
       "      <th>4</th>\n",
       "      <td>163.689656</td>\n",
       "    </tr>\n",
       "  </tbody>\n",
       "</table>\n",
       "</div>"
      ],
      "text/plain": [
       "       height\n",
       "0  182.395153\n",
       "1  177.369198\n",
       "2  182.198838\n",
       "3  176.988964\n",
       "4  163.689656"
      ]
     },
     "execution_count": 2,
     "metadata": {},
     "output_type": "execute_result"
    }
   ],
   "source": [
    "data = pd.read_csv(r'E:\\programming\\dataset\\sql_for_data_science\\datasets\\heights.csv')\n",
    "print(data.shape)\n",
    "data.head()"
   ]
  },
  {
   "cell_type": "code",
   "execution_count": 3,
   "metadata": {},
   "outputs": [
    {
     "data": {
      "text/plain": [
       "([<matplotlib.axis.XTick at 0x2381645e588>,\n",
       "  <matplotlib.axis.XTick at 0x23816b22dd8>,\n",
       "  <matplotlib.axis.XTick at 0x23816b22a90>,\n",
       "  <matplotlib.axis.XTick at 0x23816ba2e10>,\n",
       "  <matplotlib.axis.XTick at 0x23816bb92e8>,\n",
       "  <matplotlib.axis.XTick at 0x23816bb97b8>,\n",
       "  <matplotlib.axis.XTick at 0x23816bb9860>,\n",
       "  <matplotlib.axis.XTick at 0x23816bb9e80>,\n",
       "  <matplotlib.axis.XTick at 0x23816bbf438>,\n",
       "  <matplotlib.axis.XTick at 0x23816bbf9b0>,\n",
       "  <matplotlib.axis.XTick at 0x23816bbff28>,\n",
       "  <matplotlib.axis.XTick at 0x23816bc54e0>,\n",
       "  <matplotlib.axis.XTick at 0x23816bc5a58>,\n",
       "  <matplotlib.axis.XTick at 0x23816bc5ba8>,\n",
       "  <matplotlib.axis.XTick at 0x23816bcd588>,\n",
       "  <matplotlib.axis.XTick at 0x23816bc5a20>,\n",
       "  <matplotlib.axis.XTick at 0x23816bb9f28>],\n",
       " <a list of 17 Text xticklabel objects>)"
      ]
     },
     "execution_count": 3,
     "metadata": {},
     "output_type": "execute_result"
    },
    {
     "data": {
      "image/png": "[encoded data removed]",
      "text/plain": [
       "<Figure size 864x432 with 1 Axes>"
      ]
     },
     "metadata": {
      "needs_background": "light"
     },
     "output_type": "display_data"
    }
   ],
   "source": [
    "plt.figure(figsize = (12,6))\n",
    "plt.hist(data['height'],rwidth=0.5,bins = 18)\n",
    "plt.xlabel('Bins')\n",
    "plt.ylabel('Frequency')\n",
    "plt.xticks(np.arange(140,221,5))"
   ]
  },
  {
   "cell_type": "markdown",
   "metadata": {},
   "source": [
    "# Quantiles"
   ]
  },
  {
   "cell_type": "code",
   "execution_count": 4,
   "metadata": {},
   "outputs": [],
   "source": [
    "add_on_sales = [5000.0,\n",
    "                1700.0,\n",
    "                8200.0,\n",
    "                1500.0,\n",
    "                3300.0,\n",
    "                9000.0,\n",
    "                2000.0,\n",
    "                0.0,\n",
    "                0.0,\n",
    "                2300.0,\n",
    "                4700.0]"
   ]
  },
  {
   "cell_type": "code",
   "execution_count": 7,
   "metadata": {},
   "outputs": [
    {
     "data": {
      "text/plain": [
       "1600.0"
      ]
     },
     "execution_count": 7,
     "metadata": {},
     "output_type": "execute_result"
    }
   ],
   "source": [
    "#first quartile\n",
    "np.quantile(add_on_sales,0.25)"
   ]
  },
  {
   "cell_type": "code",
   "execution_count": 9,
   "metadata": {},
   "outputs": [
    {
     "data": {
      "text/plain": [
       "2300.0"
      ]
     },
     "execution_count": 9,
     "metadata": {},
     "output_type": "execute_result"
    }
   ],
   "source": [
    "#second quartile\n",
    "np.quantile(add_on_sales,0.50)"
   ]
  },
  {
   "cell_type": "code",
   "execution_count": 10,
   "metadata": {},
   "outputs": [
    {
     "data": {
      "text/plain": [
       "4850.0"
      ]
     },
     "execution_count": 10,
     "metadata": {},
     "output_type": "execute_result"
    }
   ],
   "source": [
    "#third quartile\n",
    "np.quantile(add_on_sales,0.75)"
   ]
  },
  {
   "cell_type": "markdown",
   "metadata": {},
   "source": [
    "# Mean median and mode"
   ]
  },
  {
   "cell_type": "code",
   "execution_count": 14,
   "metadata": {},
   "outputs": [
    {
     "name": "stdout",
     "output_type": "stream",
     "text": [
      "Mean -  3427.2727272727275\n",
      "Median -  2300.0\n",
      "Mode -  [0.]\n"
     ]
    }
   ],
   "source": [
    "print('Mean - ',np.mean(add_on_sales))\n",
    "print('Median - ',np.median(add_on_sales))\n",
    "print('Mode - ',stats.mode(add_on_sales)[0])"
   ]
  },
  {
   "cell_type": "markdown",
   "metadata": {},
   "source": [
    "# Range,Variance, IQR"
   ]
  },
  {
   "cell_type": "code",
   "execution_count": 17,
   "metadata": {},
   "outputs": [
    {
     "name": "stdout",
     "output_type": "stream",
     "text": [
      "Range  9000.0\n",
      "variance  8312892.56198347\n",
      "IQR -  3250.0\n"
     ]
    }
   ],
   "source": [
    "print('Range ',np.max(add_on_sales) - np.min(add_on_sales))\n",
    "print('variance ',np.var(add_on_sales))\n",
    "print('IQR - ',np.quantile(add_on_sales,0.75) - np.quantile(add_on_sales,0.25))"
   ]
  },
  {
   "cell_type": "code",
   "execution_count": 19,
   "metadata": {},
   "outputs": [
    {
     "name": "stdout",
     "output_type": "stream",
     "text": [
      "(20, 3)\n"
     ]
    },
    {
     "data": {
      "text/html": [
       "<div>\n",
       "<style scoped>\n",
       "    .dataframe tbody tr th:only-of-type {\n",
       "        vertical-align: middle;\n",
       "    }\n",
       "\n",
       "    .dataframe tbody tr th {\n",
       "        vertical-align: top;\n",
       "    }\n",
       "\n",
       "    .dataframe thead th {\n",
       "        text-align: right;\n",
       "    }\n",
       "</style>\n",
       "<table border=\"1\" class=\"dataframe\">\n",
       "  <thead>\n",
       "    <tr style=\"text-align: right;\">\n",
       "      <th></th>\n",
       "      <th>Location</th>\n",
       "      <th>Net Annual Sales</th>\n",
       "      <th>Number of Female Employees</th>\n",
       "    </tr>\n",
       "  </thead>\n",
       "  <tbody>\n",
       "    <tr>\n",
       "      <th>0</th>\n",
       "      <td>Millburn, NJ</td>\n",
       "      <td>150803012.0</td>\n",
       "      <td>27</td>\n",
       "    </tr>\n",
       "    <tr>\n",
       "      <th>1</th>\n",
       "      <td>Los Angeles, CA</td>\n",
       "      <td>110872084.0</td>\n",
       "      <td>17</td>\n",
       "    </tr>\n",
       "    <tr>\n",
       "      <th>2</th>\n",
       "      <td>Houston, TX</td>\n",
       "      <td>183945873.0</td>\n",
       "      <td>22</td>\n",
       "    </tr>\n",
       "    <tr>\n",
       "      <th>3</th>\n",
       "      <td>Miami, FL</td>\n",
       "      <td>156355396.0</td>\n",
       "      <td>18</td>\n",
       "    </tr>\n",
       "    <tr>\n",
       "      <th>4</th>\n",
       "      <td>San Mateo, CA</td>\n",
       "      <td>143108603.0</td>\n",
       "      <td>17</td>\n",
       "    </tr>\n",
       "  </tbody>\n",
       "</table>\n",
       "</div>"
      ],
      "text/plain": [
       "          Location  Net Annual Sales  Number of Female Employees\n",
       "0     Millburn, NJ       150803012.0                          27\n",
       "1  Los Angeles, CA       110872084.0                          17\n",
       "2      Houston, TX       183945873.0                          22\n",
       "3        Miami, FL       156355396.0                          18\n",
       "4    San Mateo, CA       143108603.0                          17"
      ]
     },
     "execution_count": 19,
     "metadata": {},
     "output_type": "execute_result"
    }
   ],
   "source": [
    "data = pd.read_csv(r'E:\\programming\\dataset\\sql_for_data_science\\datasets\\dealerships.csv')\n",
    "print(data.shape)\n",
    "data.head()"
   ]
  },
  {
   "cell_type": "markdown",
   "metadata": {},
   "source": [
    "2. Make a frequency distribution of the number of female employees at a dealership."
   ]
  },
  {
   "cell_type": "code",
   "execution_count": 24,
   "metadata": {},
   "outputs": [
    {
     "data": {
      "text/plain": [
       "(array([2., 2., 0., 1., 0., 1., 0., 0., 1., 0., 0., 2., 0., 0., 0., 0., 3.,\n",
       "        0., 1., 0., 0., 0., 0., 1., 0., 3., 2., 0., 0., 1.]),\n",
       " array([17. , 17.6, 18.2, 18.8, 19.4, 20. , 20.6, 21.2, 21.8, 22.4, 23. ,\n",
       "        23.6, 24.2, 24.8, 25.4, 26. , 26.6, 27.2, 27.8, 28.4, 29. , 29.6,\n",
       "        30.2, 30.8, 31.4, 32. , 32.6, 33.2, 33.8, 34.4, 35. ]),\n",
       " <a list of 30 Patch objects>)"
      ]
     },
     "execution_count": 24,
     "metadata": {},
     "output_type": "execute_result"
    },
    {
     "data": {
      "image/png": "[encoded data removed]",
      "text/plain": [
       "<Figure size 432x288 with 1 Axes>"
      ]
     },
     "metadata": {
      "needs_background": "light"
     },
     "output_type": "display_data"
    }
   ],
   "source": [
    "#frequency distribution\n",
    "plt.hist(data['Number of Female Employees'],bins = 30)"
   ]
  },
  {
   "cell_type": "markdown",
   "metadata": {},
   "source": [
    "3. Determine the average and median annual sales for a dealership."
   ]
  },
  {
   "cell_type": "code",
   "execution_count": 27,
   "metadata": {},
   "outputs": [
    {
     "name": "stdout",
     "output_type": "stream",
     "text": [
      "Average sale -  171603750.135\n",
      "Median sale -  170130716.5\n"
     ]
    }
   ],
   "source": [
    "print('Average sale - ',np.mean(data['Net Annual Sales']))\n",
    "print('Median sale - ',np.median(data['Net Annual Sales']))"
   ]
  },
  {
   "cell_type": "markdown",
   "metadata": {},
   "source": [
    "4. Determine the standard deviation of sales."
   ]
  },
  {
   "cell_type": "code",
   "execution_count": 28,
   "metadata": {},
   "outputs": [
    {
     "name": "stdout",
     "output_type": "stream",
     "text": [
      "Std dev of sales  48882406.06537339\n"
     ]
    }
   ],
   "source": [
    "print('Std dev of sales ',np.std(data['Net Annual Sales']))"
   ]
  },
  {
   "cell_type": "markdown",
   "metadata": {},
   "source": [
    "5. Do any of the dealerships seem like an outlier? Explain your reasoning"
   ]
  },
  {
   "cell_type": "markdown",
   "metadata": {},
   "source": [
    "Yes, there;s a dealership that has 35 femalse, which is very different from the others"
   ]
  },
  {
   "cell_type": "markdown",
   "metadata": {},
   "source": [
    "6. Calculate the quantiles of the annual sales"
   ]
  },
  {
   "cell_type": "code",
   "execution_count": 30,
   "metadata": {},
   "outputs": [
    {
     "name": "stdout",
     "output_type": "stream",
     "text": [
      "First qurtile  145019084.0\n",
      "Second qurtile  170130716.5\n",
      "Thrid qurtile  182351823.75\n"
     ]
    }
   ],
   "source": [
    "print('First qurtile ',np.quantile(data['Net Annual Sales'],0.25))\n",
    "print('Second qurtile ',np.quantile(data['Net Annual Sales'],0.50))\n",
    "print('Thrid qurtile ',np.quantile(data['Net Annual Sales'],0.75))"
   ]
  },
  {
   "cell_type": "markdown",
   "metadata": {},
   "source": [
    "7. Calculate the correlation coefficient of annual sales to female employees and\n",
    "interpret the result."
   ]
  },
  {
   "cell_type": "code",
   "execution_count": 32,
   "metadata": {},
   "outputs": [
    {
     "name": "stdout",
     "output_type": "stream",
     "text": [
      "Correlation is 0.104579852797923\n"
     ]
    }
   ],
   "source": [
    "print('Correlation is',np.corrcoef(data['Net Annual Sales'],data['Number of Female Employees'])[0][1])"
   ]
  },
  {
   "cell_type": "code",
   "execution_count": null,
   "metadata": {},
   "outputs": [],
   "source": []
  }
 ],
 "metadata": {
  "kernelspec": {
   "display_name": "Python 3",
   "language": "python",
   "name": "python3"
  },
  "language_info": {
   "codemirror_mode": {
    "name": "ipython",
    "version": 3
   },
   "file_extension": ".py",
   "mimetype": "text/x-python",
   "name": "python",
   "nbconvert_exporter": "python",
   "pygments_lexer": "ipython3",
   "version": "3.7.3"
  }
 },
 "nbformat": 4,
 "nbformat_minor": 2
}
